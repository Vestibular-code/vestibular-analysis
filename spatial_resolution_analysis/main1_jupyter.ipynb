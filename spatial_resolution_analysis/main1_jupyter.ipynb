{
 "cells": [
  {
   "cell_type": "markdown",
   "metadata": {},
   "source": [
    "# 数据处理主程序\n",
    "\n",
    "本notebook包含完整的数据处理流程，包括：\n",
    "1. 数据预处理\n",
    "2. 标准化坐标计算\n",
    "3. 平均VG绘制\n",
    "4. landmarks表生成\n",
    "5. ROI原始坐标生成"
   ]
  },
  {
   "cell_type": "code",
   "execution_count": 1,
   "metadata": {},
   "outputs": [
    {
     "name": "stdout",
     "output_type": "stream",
     "text": [
      "模块导入完成！\n"
     ]
    }
   ],
   "source": [
    "# 导入必要的模块\n",
    "import os\n",
    "from modules import preprocessing\n",
    "\n",
    "print('模块导入完成！')"
   ]
  },
  {
   "cell_type": "code",
   "execution_count": 2,
   "metadata": {},
   "outputs": [
    {
     "name": "stdout",
     "output_type": "stream",
     "text": [
      "根目录: your_pathway/wt/\n",
      "样本总数: 14\n",
      "样本列表: ['tmie1', 'tmie2', 'tmie3', 'tmie4', 'tmie5', 'tmie6', 'wt1', 'wt2', 'wt3', 'wt4', 'wt5', 'wt6', 'wt7', 'wt8']\n"
     ]
    }
   ],
   "source": [
    "# 设置路径和参数\n",
    "base_folder = 'your_pathway/wt/'\n",
    "landmarks_folder = os.path.join(base_folder, 'landmarks')\n",
    "summary_folder = os.path.join(base_folder, 'summary')\n",
    "data_folder = os.path.join(base_folder, 'data')\n",
    "\n",
    "# 标记物列表和阈值\n",
    "marker_list = ['a', 'b', 'c', 'd', 'e']\n",
    "point_label_list = ['big sharp', 'big flat', 'mid sharp', 'mid flat', 'small sharp', 'small flat', 'small2mid', 'big2mid']\n",
    "order_list = [0, 7, 2, 6, 4, 5, 3, 1, 0]\n",
    "\n",
    "# 获取数据子文件夹\n",
    "sub_folders = [f for f in os.listdir(data_folder) \n",
    "               if os.path.isdir(os.path.join(data_folder, f)) and f not in ['.', '..']]\n",
    "\n",
    "print(f'根目录: {base_folder}')\n",
    "print(f'样本总数: {len(sub_folders)}')\n",
    "print(f'样本列表: {sub_folders}')"
   ]
  },
  {
   "cell_type": "code",
   "execution_count": 3,
   "metadata": {},
   "outputs": [
    {
     "name": "stdout",
     "output_type": "stream",
     "text": [
      "===== 开始数据预处理 =====\n",
      "所有坐标数据已成功保存到各个文件夹下的/six_point/points.csv文件中。\n",
      "✅ 数据预处理完成\n"
     ]
    }
   ],
   "source": [
    "# 步骤1: 数据预处理\n",
    "print('===== 开始数据预处理 =====')\n",
    "try:\n",
    "    preprocessing.preprocessing(base_folder, landmarks_folder, data_folder)\n",
    "    print('✅ 数据预处理完成')\n",
    "except Exception as e:\n",
    "    print(f'❌ 数据预处理失败: {e}')"
   ]
  },
  {
   "cell_type": "code",
   "execution_count": 4,
   "metadata": {},
   "outputs": [
    {
     "name": "stdout",
     "output_type": "stream",
     "text": [
      "===== 开始标准化坐标计算 =====\n",
      "✅ 标准化坐标计算完成\n"
     ]
    }
   ],
   "source": [
    "# 步骤2: 计算每个样品的标准化坐标\n",
    "print('===== 开始标准化坐标计算 =====')\n",
    "try:\n",
    "    preprocessing.norm_rot_point(data_folder, summary_folder, sub_folders)\n",
    "    print('✅ 标准化坐标计算完成')\n",
    "except Exception as e:\n",
    "    print(f'❌ 标准化坐标计算失败: {e}')"
   ]
  },
  {
   "cell_type": "code",
   "execution_count": 5,
   "metadata": {},
   "outputs": [
    {
     "name": "stdout",
     "output_type": "stream",
     "text": [
      "===== 开始绘制平均VG =====\n",
      "平均VG点已保存到 your_pathway/wt/summary\\vg_averageing_labels.csv\n",
      "✅ 平均VG绘制完成\n"
     ]
    }
   ],
   "source": [
    "# 步骤3: 绘制平均VG\n",
    "print('===== 开始绘制平均VG =====')\n",
    "try:\n",
    "    preprocessing.registration_to_frame(data_folder, summary_folder, sub_folders, point_label_list, order_list)\n",
    "    print('✅ 平均VG绘制完成')\n",
    "except Exception as e:\n",
    "    print(f'❌ 平均VG绘制失败: {e}')"
   ]
  },
  {
   "cell_type": "code",
   "execution_count": 6,
   "metadata": {},
   "outputs": [
    {
     "name": "stdout",
     "output_type": "stream",
     "text": [
      "===== 开始生成landmarks表 =====\n",
      "已保存到 your_pathway/wt/data\\tmie1\\six_point\\final_mapping_landmarks.csv\n",
      "已保存到 your_pathway/wt/data\\tmie1\\six_point\\usethis_mapping_landmarks.csv\n",
      "已保存到 your_pathway/wt/data\\tmie2\\six_point\\final_mapping_landmarks.csv\n",
      "已保存到 your_pathway/wt/data\\tmie2\\six_point\\usethis_mapping_landmarks.csv\n",
      "已保存到 your_pathway/wt/data\\tmie3\\six_point\\final_mapping_landmarks.csv\n",
      "已保存到 your_pathway/wt/data\\tmie3\\six_point\\usethis_mapping_landmarks.csv\n",
      "已保存到 your_pathway/wt/data\\tmie4\\six_point\\final_mapping_landmarks.csv\n",
      "已保存到 your_pathway/wt/data\\tmie4\\six_point\\usethis_mapping_landmarks.csv\n",
      "已保存到 your_pathway/wt/data\\tmie5\\six_point\\final_mapping_landmarks.csv\n",
      "已保存到 your_pathway/wt/data\\tmie5\\six_point\\usethis_mapping_landmarks.csv\n",
      "已保存到 your_pathway/wt/data\\tmie6\\six_point\\final_mapping_landmarks.csv\n",
      "已保存到 your_pathway/wt/data\\tmie6\\six_point\\usethis_mapping_landmarks.csv\n",
      "已保存到 your_pathway/wt/data\\wt1\\six_point\\final_mapping_landmarks.csv\n",
      "已保存到 your_pathway/wt/data\\wt1\\six_point\\usethis_mapping_landmarks.csv\n",
      "已保存到 your_pathway/wt/data\\wt2\\six_point\\final_mapping_landmarks.csv\n",
      "已保存到 your_pathway/wt/data\\wt2\\six_point\\usethis_mapping_landmarks.csv\n",
      "已保存到 your_pathway/wt/data\\wt3\\six_point\\final_mapping_landmarks.csv\n",
      "已保存到 your_pathway/wt/data\\wt3\\six_point\\usethis_mapping_landmarks.csv\n",
      "已保存到 your_pathway/wt/data\\wt4\\six_point\\final_mapping_landmarks.csv\n",
      "已保存到 your_pathway/wt/data\\wt4\\six_point\\usethis_mapping_landmarks.csv\n",
      "已保存到 your_pathway/wt/data\\wt5\\six_point\\final_mapping_landmarks.csv\n",
      "已保存到 your_pathway/wt/data\\wt5\\six_point\\usethis_mapping_landmarks.csv\n",
      "已保存到 your_pathway/wt/data\\wt6\\six_point\\final_mapping_landmarks.csv\n",
      "已保存到 your_pathway/wt/data\\wt6\\six_point\\usethis_mapping_landmarks.csv\n",
      "已保存到 your_pathway/wt/data\\wt7\\six_point\\final_mapping_landmarks.csv\n",
      "已保存到 your_pathway/wt/data\\wt7\\six_point\\usethis_mapping_landmarks.csv\n",
      "已保存到 your_pathway/wt/data\\wt8\\six_point\\final_mapping_landmarks.csv\n",
      "已保存到 your_pathway/wt/data\\wt8\\six_point\\usethis_mapping_landmarks.csv\n",
      "✅ landmarks表生成完成\n"
     ]
    }
   ],
   "source": [
    "# 步骤4: 生成landmarks表\n",
    "print('===== 开始生成landmarks表 =====')\n",
    "try:\n",
    "    preprocessing.mapping_landmarks(data_folder, summary_folder, sub_folders)\n",
    "    print('✅ landmarks表生成完成')\n",
    "except Exception as e:\n",
    "    print(f'❌ landmarks表生成失败: {e}')"
   ]
  },
  {
   "cell_type": "code",
   "execution_count": 7,
   "metadata": {},
   "outputs": [
    {
     "name": "stdout",
     "output_type": "stream",
     "text": [
      "===== 开始生成ROI原始坐标 =====\n",
      "已处理文件夹: your_pathway/wt/data\\tmie1，保存结果到: your_pathway/wt/data\\tmie1\\six_point\\roi_data_a.csv\n",
      "已处理文件夹: your_pathway/wt/data\\tmie1，保存结果到: your_pathway/wt/data\\tmie1\\six_point\\roi_data_b.csv\n",
      "已处理文件夹: your_pathway/wt/data\\tmie1，保存结果到: your_pathway/wt/data\\tmie1\\six_point\\roi_data_c.csv\n",
      "已处理文件夹: your_pathway/wt/data\\tmie1，保存结果到: your_pathway/wt/data\\tmie1\\six_point\\roi_data_d.csv\n",
      "已处理文件夹: your_pathway/wt/data\\tmie1，保存结果到: your_pathway/wt/data\\tmie1\\six_point\\roi_data_e.csv\n",
      "已处理文件夹: your_pathway/wt/data\\tmie2，保存结果到: your_pathway/wt/data\\tmie2\\six_point\\roi_data_a.csv\n",
      "已处理文件夹: your_pathway/wt/data\\tmie2，保存结果到: your_pathway/wt/data\\tmie2\\six_point\\roi_data_b.csv\n",
      "已处理文件夹: your_pathway/wt/data\\tmie2，保存结果到: your_pathway/wt/data\\tmie2\\six_point\\roi_data_c.csv\n",
      "已处理文件夹: your_pathway/wt/data\\tmie2，保存结果到: your_pathway/wt/data\\tmie2\\six_point\\roi_data_d.csv\n",
      "已处理文件夹: your_pathway/wt/data\\tmie2，保存结果到: your_pathway/wt/data\\tmie2\\six_point\\roi_data_e.csv\n",
      "已处理文件夹: your_pathway/wt/data\\tmie3，保存结果到: your_pathway/wt/data\\tmie3\\six_point\\roi_data_a.csv\n",
      "已处理文件夹: your_pathway/wt/data\\tmie3，保存结果到: your_pathway/wt/data\\tmie3\\six_point\\roi_data_b.csv\n",
      "已处理文件夹: your_pathway/wt/data\\tmie3，保存结果到: your_pathway/wt/data\\tmie3\\six_point\\roi_data_c.csv\n",
      "已处理文件夹: your_pathway/wt/data\\tmie3，保存结果到: your_pathway/wt/data\\tmie3\\six_point\\roi_data_d.csv\n",
      "已处理文件夹: your_pathway/wt/data\\tmie3，保存结果到: your_pathway/wt/data\\tmie3\\six_point\\roi_data_e.csv\n",
      "已处理文件夹: your_pathway/wt/data\\tmie4，保存结果到: your_pathway/wt/data\\tmie4\\six_point\\roi_data_a.csv\n",
      "已处理文件夹: your_pathway/wt/data\\tmie4，保存结果到: your_pathway/wt/data\\tmie4\\six_point\\roi_data_b.csv\n",
      "已处理文件夹: your_pathway/wt/data\\tmie4，保存结果到: your_pathway/wt/data\\tmie4\\six_point\\roi_data_c.csv\n",
      "已处理文件夹: your_pathway/wt/data\\tmie4，保存结果到: your_pathway/wt/data\\tmie4\\six_point\\roi_data_d.csv\n",
      "已处理文件夹: your_pathway/wt/data\\tmie4，保存结果到: your_pathway/wt/data\\tmie4\\six_point\\roi_data_e.csv\n",
      "已处理文件夹: your_pathway/wt/data\\tmie5，保存结果到: your_pathway/wt/data\\tmie5\\six_point\\roi_data_a.csv\n",
      "已处理文件夹: your_pathway/wt/data\\tmie5，保存结果到: your_pathway/wt/data\\tmie5\\six_point\\roi_data_b.csv\n",
      "已处理文件夹: your_pathway/wt/data\\tmie5，保存结果到: your_pathway/wt/data\\tmie5\\six_point\\roi_data_c.csv\n",
      "已处理文件夹: your_pathway/wt/data\\tmie5，保存结果到: your_pathway/wt/data\\tmie5\\six_point\\roi_data_d.csv\n",
      "已处理文件夹: your_pathway/wt/data\\tmie5，保存结果到: your_pathway/wt/data\\tmie5\\six_point\\roi_data_e.csv\n",
      "已处理文件夹: your_pathway/wt/data\\tmie6，保存结果到: your_pathway/wt/data\\tmie6\\six_point\\roi_data_a.csv\n",
      "已处理文件夹: your_pathway/wt/data\\tmie6，保存结果到: your_pathway/wt/data\\tmie6\\six_point\\roi_data_b.csv\n",
      "已处理文件夹: your_pathway/wt/data\\tmie6，保存结果到: your_pathway/wt/data\\tmie6\\six_point\\roi_data_c.csv\n",
      "已处理文件夹: your_pathway/wt/data\\tmie6，保存结果到: your_pathway/wt/data\\tmie6\\six_point\\roi_data_d.csv\n",
      "已处理文件夹: your_pathway/wt/data\\tmie6，保存结果到: your_pathway/wt/data\\tmie6\\six_point\\roi_data_e.csv\n",
      "已处理文件夹: your_pathway/wt/data\\wt1，保存结果到: your_pathway/wt/data\\wt1\\six_point\\roi_data_a.csv\n",
      "已处理文件夹: your_pathway/wt/data\\wt1，保存结果到: your_pathway/wt/data\\wt1\\six_point\\roi_data_b.csv\n",
      "已处理文件夹: your_pathway/wt/data\\wt1，保存结果到: your_pathway/wt/data\\wt1\\six_point\\roi_data_c.csv\n",
      "已处理文件夹: your_pathway/wt/data\\wt1，保存结果到: your_pathway/wt/data\\wt1\\six_point\\roi_data_d.csv\n",
      "已处理文件夹: your_pathway/wt/data\\wt1，保存结果到: your_pathway/wt/data\\wt1\\six_point\\roi_data_e.csv\n",
      "已处理文件夹: your_pathway/wt/data\\wt2，保存结果到: your_pathway/wt/data\\wt2\\six_point\\roi_data_a.csv\n",
      "已处理文件夹: your_pathway/wt/data\\wt2，保存结果到: your_pathway/wt/data\\wt2\\six_point\\roi_data_b.csv\n",
      "已处理文件夹: your_pathway/wt/data\\wt2，保存结果到: your_pathway/wt/data\\wt2\\six_point\\roi_data_c.csv\n",
      "已处理文件夹: your_pathway/wt/data\\wt2，保存结果到: your_pathway/wt/data\\wt2\\six_point\\roi_data_d.csv\n",
      "已处理文件夹: your_pathway/wt/data\\wt2，保存结果到: your_pathway/wt/data\\wt2\\six_point\\roi_data_e.csv\n",
      "已处理文件夹: your_pathway/wt/data\\wt3，保存结果到: your_pathway/wt/data\\wt3\\six_point\\roi_data_a.csv\n",
      "已处理文件夹: your_pathway/wt/data\\wt3，保存结果到: your_pathway/wt/data\\wt3\\six_point\\roi_data_b.csv\n",
      "已处理文件夹: your_pathway/wt/data\\wt3，保存结果到: your_pathway/wt/data\\wt3\\six_point\\roi_data_c.csv\n",
      "已处理文件夹: your_pathway/wt/data\\wt3，保存结果到: your_pathway/wt/data\\wt3\\six_point\\roi_data_d.csv\n",
      "已处理文件夹: your_pathway/wt/data\\wt3，保存结果到: your_pathway/wt/data\\wt3\\six_point\\roi_data_e.csv\n",
      "已处理文件夹: your_pathway/wt/data\\wt4，保存结果到: your_pathway/wt/data\\wt4\\six_point\\roi_data_a.csv\n",
      "已处理文件夹: your_pathway/wt/data\\wt4，保存结果到: your_pathway/wt/data\\wt4\\six_point\\roi_data_b.csv\n",
      "已处理文件夹: your_pathway/wt/data\\wt4，保存结果到: your_pathway/wt/data\\wt4\\six_point\\roi_data_c.csv\n",
      "已处理文件夹: your_pathway/wt/data\\wt4，保存结果到: your_pathway/wt/data\\wt4\\six_point\\roi_data_d.csv\n",
      "已处理文件夹: your_pathway/wt/data\\wt4，保存结果到: your_pathway/wt/data\\wt4\\six_point\\roi_data_e.csv\n",
      "已处理文件夹: your_pathway/wt/data\\wt5，保存结果到: your_pathway/wt/data\\wt5\\six_point\\roi_data_a.csv\n",
      "已处理文件夹: your_pathway/wt/data\\wt5，保存结果到: your_pathway/wt/data\\wt5\\six_point\\roi_data_b.csv\n",
      "已处理文件夹: your_pathway/wt/data\\wt5，保存结果到: your_pathway/wt/data\\wt5\\six_point\\roi_data_c.csv\n",
      "已处理文件夹: your_pathway/wt/data\\wt5，保存结果到: your_pathway/wt/data\\wt5\\six_point\\roi_data_d.csv\n",
      "已处理文件夹: your_pathway/wt/data\\wt5，保存结果到: your_pathway/wt/data\\wt5\\six_point\\roi_data_e.csv\n",
      "已处理文件夹: your_pathway/wt/data\\wt6，保存结果到: your_pathway/wt/data\\wt6\\six_point\\roi_data_a.csv\n",
      "已处理文件夹: your_pathway/wt/data\\wt6，保存结果到: your_pathway/wt/data\\wt6\\six_point\\roi_data_b.csv\n",
      "已处理文件夹: your_pathway/wt/data\\wt6，保存结果到: your_pathway/wt/data\\wt6\\six_point\\roi_data_c.csv\n",
      "已处理文件夹: your_pathway/wt/data\\wt6，保存结果到: your_pathway/wt/data\\wt6\\six_point\\roi_data_d.csv\n",
      "已处理文件夹: your_pathway/wt/data\\wt6，保存结果到: your_pathway/wt/data\\wt6\\six_point\\roi_data_e.csv\n",
      "已处理文件夹: your_pathway/wt/data\\wt7，保存结果到: your_pathway/wt/data\\wt7\\six_point\\roi_data_a.csv\n",
      "已处理文件夹: your_pathway/wt/data\\wt7，保存结果到: your_pathway/wt/data\\wt7\\six_point\\roi_data_b.csv\n",
      "已处理文件夹: your_pathway/wt/data\\wt7，保存结果到: your_pathway/wt/data\\wt7\\six_point\\roi_data_c.csv\n",
      "已处理文件夹: your_pathway/wt/data\\wt7，保存结果到: your_pathway/wt/data\\wt7\\six_point\\roi_data_d.csv\n",
      "已处理文件夹: your_pathway/wt/data\\wt7，保存结果到: your_pathway/wt/data\\wt7\\six_point\\roi_data_e.csv\n",
      "已处理文件夹: your_pathway/wt/data\\wt8，保存结果到: your_pathway/wt/data\\wt8\\six_point\\roi_data_a.csv\n",
      "已处理文件夹: your_pathway/wt/data\\wt8，保存结果到: your_pathway/wt/data\\wt8\\six_point\\roi_data_b.csv\n",
      "已处理文件夹: your_pathway/wt/data\\wt8，保存结果到: your_pathway/wt/data\\wt8\\six_point\\roi_data_c.csv\n",
      "已处理文件夹: your_pathway/wt/data\\wt8，保存结果到: your_pathway/wt/data\\wt8\\six_point\\roi_data_d.csv\n",
      "已处理文件夹: your_pathway/wt/data\\wt8，保存结果到: your_pathway/wt/data\\wt8\\six_point\\roi_data_e.csv\n",
      "✅ ROI原始坐标生成完成\n"
     ]
    }
   ],
   "source": [
    "# 步骤5: 生成ROI的原始坐标\n",
    "print('===== 开始生成ROI原始坐标 =====')\n",
    "try:\n",
    "    preprocessing.true_mapping_roi(marker_list, data_folder, sub_folders)\n",
    "    print('✅ ROI原始坐标生成完成')\n",
    "except Exception as e:\n",
    "    print(f'❌ ROI原始坐标生成失败: {e}')"
   ]
  },
  {
   "cell_type": "markdown",
   "metadata": {},
   "source": [
    "## 🎉 程序处理完成！\n",
    "\n",
    "所有数据处理步骤已完成，现在可以：\n",
    "1. 打开ImageJ运行bigWarp.py程序\n",
    "2. 查看生成的结果文件\n",
    "3. 进行后续分析"
   ]
  },
  {
   "cell_type": "code",
   "execution_count": 8,
   "metadata": {},
   "outputs": [
    {
     "name": "stdout",
     "output_type": "stream",
     "text": [
      "生成的文件列表:\n",
      "  - average_vg.png\n",
      "  - grid_pvalues_wt\n",
      "  - grid_pvalues_wt_xbins\n",
      "  - grid_visualizations_wt\n",
      "  - grid_visualizations_wt_xbins\n",
      "  - sample_info.csv\n",
      "  - tmie_scatter_density_e.png\n",
      "  - tmie_scatter_density_b.png\n",
      "  - tmie_scatter_density_d.png\n",
      "  - tmie_scatter_density_c.png\n",
      "  - tmie_scatter_density_a.png\n",
      "  - tmie_summary_e.csv\n",
      "  - tmie_summary_b.csv\n",
      "  - tmie_summary_d.csv\n",
      "  - tmie_summary_c.csv\n",
      "  - tmie_summary_a.csv\n",
      "  - vg_averageing_labels.csv\n",
      "  - vg_size.csv\n",
      "  - wt_scatter_density_e.png\n",
      "  - wt_scatter_density_b.png\n",
      "  - wt_scatter_density_d.png\n",
      "  - wt_scatter_density_c.png\n",
      "  - wt_scatter_density_a.png\n",
      "  - wt_summary_all.csv\n",
      "  - wt_summary_e.csv\n",
      "  - wt_summary_b.csv\n",
      "  - wt_summary_d.csv\n",
      "  - wt_summary_c.csv\n",
      "  - wt_summary_a.csv\n"
     ]
    }
   ],
   "source": [
    "# 检查生成的文件\n",
    "import glob\n",
    "\n",
    "print('生成的文件列表:')\n",
    "summary_files = glob.glob(os.path.join(summary_folder, '*'))\n",
    "for file in summary_files:\n",
    "    print(f'  - {os.path.basename(file)}')"
   ]
  }
 ],
 "metadata": {
  "kernelspec": {
   "display_name": "study",
   "language": "python",
   "name": "python3"
  },
  "language_info": {
   "codemirror_mode": {
    "name": "ipython",
    "version": 3
   },
   "file_extension": ".py",
   "mimetype": "text/x-python",
   "name": "python",
   "nbconvert_exporter": "python",
   "pygments_lexer": "ipython3",
   "version": "3.12.9"
  }
 },
 "nbformat": 4,
 "nbformat_minor": 4
}
